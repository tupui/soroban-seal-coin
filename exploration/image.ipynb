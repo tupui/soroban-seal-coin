{
 "cells": [
  {
   "cell_type": "code",
   "execution_count": 1,
   "id": "f1f4bda6-c857-446c-9f8b-53fc66a45cc1",
   "metadata": {},
   "outputs": [],
   "source": [
    "from PIL import Image, ImageDraw, ImageOps"
   ]
  },
  {
   "cell_type": "code",
   "execution_count": 2,
   "id": "7be54142-1d1c-4669-bb3c-d897e677bfa4",
   "metadata": {},
   "outputs": [],
   "source": [
    "EPD_WIDTH = 122\n",
    "EPD_HEIGHT = 250"
   ]
  },
  {
   "cell_type": "code",
   "execution_count": 4,
   "id": "cf36f98e-9cef-466c-9910-a12b56a95318",
   "metadata": {},
   "outputs": [],
   "source": [
    "image = Image.new('1', (250, 122), 255)\n",
    "draw = ImageDraw.Draw(image)\n",
    "\n",
    "bmp = Image.open('../iot/screen/soroban.png')\n",
    "bmp.thumbnail((100, 100))\n",
    "image.paste(bmp, (5, 10))\n",
    "\n",
    "\n",
    "draw.text((100, 60), \"SEAL\", fill=0)\n",
    "\n",
    "#image = image.rotate(180)\n",
    "\n",
    "\n",
    "image.show()"
   ]
  },
  {
   "cell_type": "code",
   "execution_count": 62,
   "id": "452a713b-3324-4ae8-a57e-e06fe9498023",
   "metadata": {},
   "outputs": [],
   "source": []
  },
  {
   "cell_type": "code",
   "execution_count": null,
   "id": "1cb27881-b48c-4d08-8f5a-47a098bfd03f",
   "metadata": {},
   "outputs": [],
   "source": [
    "epd = epd2in13_V4.EPD()\n",
    "epd.init()\n",
    "epd.clear(0xFF)\n",
    "image = Image.new(\"1\", (epd.height, epd.width), 255)\n",
    "draw = ImageDraw.Draw(image)\n",
    "\n",
    "bmp = Image.open('test.png')\n",
    "bmp.thumbnail((100, 100))\n",
    "image.paste(bmp, (5, 10))\n",
    "\n",
    "draw.text((100, 60), \"SEAL\", fill=0)\n",
    "\n",
    "#image = image.rotate(180)\n",
    "\n",
    "epd.display(epd.get_buffer(image))\n",
    "\n",
    "\n"
   ]
  },
  {
   "cell_type": "code",
   "execution_count": null,
   "id": "33b5340e-0262-4d8e-b915-79c4d34ef17c",
   "metadata": {},
   "outputs": [],
   "source": [
    "epd = epd2in13_V4.EPD()\n",
    "epd.init()\n",
    "epd.clear()\n",
    "image = Image.new(\"1\", (epd.height, epd.width), 255)\n",
    "draw = ImageDraw.Draw(image)\n",
    "\n",
    "\n",
    "bmp = Image.open('test.png')\n",
    "bmp.thumbnail((100, 100))\n",
    "image.paste(bmp, (5, 10))\n",
    "\n",
    "draw.text((100, 60), \"SEAL\", fill=0)\n",
    "\n",
    "epd.display_part_base_image(epd.get_buffer(image))\n",
    "\n",
    "num = 0\n",
    "while num < 2:\n",
    "    draw.rectangle((120, 80, 220, 105), fill=255)\n",
    "    draw.text((120, 80), time.strftime(\"%H:%M:%S\"), fill=0)\n",
    "    epd.display_partial(epd.get_buffer(image))\n",
    "    num += 1\n",
    "    time.sleep(1)\n",
    "\n",
    "epd.sleep()\n",
    "\n",
    "epd.init()\n",
    "draw.rectangle((120, 80, 220, 105), fill=255)\n",
    "draw.text((120, 80), time.strftime(\"%H:%M:%S\"), fill=0)\n",
    "epd.display_partial(epd.get_buffer(image))"
   ]
  },
  {
   "cell_type": "code",
   "execution_count": null,
   "id": "c61b3c6e-a3ea-4b23-b022-0140b5a97f78",
   "metadata": {},
   "outputs": [],
   "source": []
  },
  {
   "cell_type": "code",
   "execution_count": 51,
   "id": "ef0907e1-2544-4721-8987-6a46cfa876f5",
   "metadata": {},
   "outputs": [],
   "source": [
    "image = Image.new('1', (250, 122), 255)\n",
    "draw = ImageDraw.Draw(image)\n",
    "\n",
    "bmp = Image.open('../iot/screen/seal.png')\n",
    "bmp = bmp.convert('L').quantize(colors=2)\n",
    "bmp = ImageOps.invert(bmp.convert('RGB'))\n",
    "bmp.thumbnail((100, 100))\n",
    "bmp = bmp.convert(\"1\", dither=Image.Dither.NONE)\n",
    "image.paste(bmp, (5, 10))\n",
    "\n",
    "\n",
    "draw.text((100, 60), \"SEAL\", fill=0)\n",
    "\n",
    "#image = image.rotate(180)"
   ]
  },
  {
   "cell_type": "code",
   "execution_count": 52,
   "id": "01dae6e3-e371-4f69-9ea1-763d0f0985b1",
   "metadata": {},
   "outputs": [
    {
     "data": {
      "image/jpeg": "[encoded data removed]",
      "image/png": "[encoded data removed]",
      "text/plain": [
       "<PIL.Image.Image image mode=1 size=250x122>"
      ]
     },
     "execution_count": 52,
     "metadata": {},
     "output_type": "execute_result"
    }
   ],
   "source": [
    "image"
   ]
  },
  {
   "cell_type": "code",
   "execution_count": null,
   "id": "704b02ed-6bc6-4c32-99fa-10ca4a9bf0da",
   "metadata": {},
   "outputs": [],
   "source": []
  }
 ],
 "metadata": {
  "kernelspec": {
   "display_name": "Python 3 (ipykernel)",
   "language": "python",
   "name": "python3"
  },
  "language_info": {
   "codemirror_mode": {
    "name": "ipython",
    "version": 3
   },
   "file_extension": ".py",
   "mimetype": "text/x-python",
   "name": "python",
   "nbconvert_exporter": "python",
   "pygments_lexer": "ipython3",
   "version": "3.12.0"
  }
 },
 "nbformat": 4,
 "nbformat_minor": 5
}
